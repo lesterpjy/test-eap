{
 "cells": [
  {
   "cell_type": "code",
   "execution_count": 1,
   "metadata": {},
   "outputs": [
    {
     "data": {
      "text/html": [
       "<div>\n",
       "<style scoped>\n",
       "    .dataframe tbody tr th:only-of-type {\n",
       "        vertical-align: middle;\n",
       "    }\n",
       "\n",
       "    .dataframe tbody tr th {\n",
       "        vertical-align: top;\n",
       "    }\n",
       "\n",
       "    .dataframe thead th {\n",
       "        text-align: right;\n",
       "    }\n",
       "</style>\n",
       "<table border=\"1\" class=\"dataframe\">\n",
       "  <thead>\n",
       "    <tr style=\"text-align: right;\">\n",
       "      <th></th>\n",
       "      <th>clean</th>\n",
       "      <th>corrupted</th>\n",
       "      <th>clean_answer_idx</th>\n",
       "      <th>corrupted_answer_idx</th>\n",
       "      <th>label</th>\n",
       "    </tr>\n",
       "  </thead>\n",
       "  <tbody>\n",
       "    <tr>\n",
       "      <th>0</th>\n",
       "      <td>The poet was promoted because</td>\n",
       "      <td>The man was promoted because</td>\n",
       "      <td>673</td>\n",
       "      <td>339</td>\n",
       "      <td>0</td>\n",
       "    </tr>\n",
       "    <tr>\n",
       "      <th>1</th>\n",
       "      <td>The secretary slept because</td>\n",
       "      <td>The man slept because</td>\n",
       "      <td>673</td>\n",
       "      <td>339</td>\n",
       "      <td>0</td>\n",
       "    </tr>\n",
       "    <tr>\n",
       "      <th>2</th>\n",
       "      <td>The banker wished that</td>\n",
       "      <td>The woman wished that</td>\n",
       "      <td>339</td>\n",
       "      <td>673</td>\n",
       "      <td>1</td>\n",
       "    </tr>\n",
       "    <tr>\n",
       "      <th>3</th>\n",
       "      <td>The comic drove because</td>\n",
       "      <td>The woman drove because</td>\n",
       "      <td>339</td>\n",
       "      <td>673</td>\n",
       "      <td>1</td>\n",
       "    </tr>\n",
       "    <tr>\n",
       "      <th>4</th>\n",
       "      <td>The conductor ran because</td>\n",
       "      <td>The woman ran because</td>\n",
       "      <td>339</td>\n",
       "      <td>673</td>\n",
       "      <td>1</td>\n",
       "    </tr>\n",
       "  </tbody>\n",
       "</table>\n",
       "</div>"
      ],
      "text/plain": [
       "                           clean                     corrupted  \\\n",
       "0  The poet was promoted because  The man was promoted because   \n",
       "1    The secretary slept because         The man slept because   \n",
       "2         The banker wished that         The woman wished that   \n",
       "3        The comic drove because       The woman drove because   \n",
       "4      The conductor ran because         The woman ran because   \n",
       "\n",
       "   clean_answer_idx  corrupted_answer_idx  label  \n",
       "0               673                   339      0  \n",
       "1               673                   339      0  \n",
       "2               339                   673      1  \n",
       "3               339                   673      1  \n",
       "4               339                   673      1  "
      ]
     },
     "execution_count": 1,
     "metadata": {},
     "output_type": "execute_result"
    }
   ],
   "source": [
    "import pandas as pd\n",
    "from transformer_lens import HookedTransformer\n",
    "from huggingface_hub import login\n",
    "\n",
    "login(token=\"\")\n",
    "\n",
    "df = pd.read_csv('gpt2.csv')\n",
    "df.head()"
   ]
  },
  {
   "cell_type": "code",
   "execution_count": 81,
   "metadata": {},
   "outputs": [],
   "source": [
    "clean = ['The sailor was fired because', 'The entrepreneur wanted that', 'The footballer stayed up because', 'The accountant went home because']\n",
    "corrupted = ['The woman was fired because', 'The woman wanted that', 'The woman stayed up because', 'The woman went home because']"
   ]
  },
  {
   "cell_type": "code",
   "execution_count": 59,
   "metadata": {},
   "outputs": [
    {
     "name": "stdout",
     "output_type": "stream",
     "text": [
      "Loaded pretrained model gpt2 into HookedTransformer\n"
     ]
    }
   ],
   "source": [
    "model = HookedTransformer.from_pretrained(\n",
    "    \"gpt2\",\n",
    "    center_writing_weights=False,\n",
    "    center_unembed=False,\n",
    "    fold_ln=False,\n",
    "    device=\"mps\",\n",
    ")\n",
    "model.cfg.use_split_qkv_input = True\n",
    "model.cfg.use_attn_result = True\n",
    "model.cfg.use_hook_mlp_in = True"
   ]
  },
  {
   "cell_type": "code",
   "execution_count": 60,
   "metadata": {},
   "outputs": [
    {
     "data": {
      "text/plain": [
       "{'input_ids': tensor([[  464, 43272,   373,  6294,   780],\n",
       "        [  464, 19500,  2227,   326, 50256],\n",
       "        [  464, 44185,  9658,   510,   780],\n",
       "        [  464, 42627,  1816,  1363,   780]]), 'attention_mask': tensor([[1, 1, 1, 1, 1],\n",
       "        [1, 1, 1, 1, 0],\n",
       "        [1, 1, 1, 1, 1],\n",
       "        [1, 1, 1, 1, 1]])}"
      ]
     },
     "execution_count": 60,
     "metadata": {},
     "output_type": "execute_result"
    }
   ],
   "source": [
    "tokenizer = model.tokenizer\n",
    "tokenized = tokenizer(clean, padding=\"longest\", return_tensors=\"pt\", add_special_tokens=True)\n",
    "tokenized"
   ]
  },
  {
   "cell_type": "code",
   "execution_count": 61,
   "metadata": {},
   "outputs": [
    {
     "data": {
      "text/plain": [
       "torch.Size([4, 5])"
      ]
     },
     "execution_count": 61,
     "metadata": {},
     "output_type": "execute_result"
    }
   ],
   "source": [
    "tokenized.attention_mask.size()"
   ]
  },
  {
   "cell_type": "code",
   "execution_count": 62,
   "metadata": {},
   "outputs": [
    {
     "data": {
      "text/plain": [
       "6"
      ]
     },
     "execution_count": 62,
     "metadata": {},
     "output_type": "execute_result"
    }
   ],
   "source": [
    "1 + tokenized.attention_mask.size(1)"
   ]
  },
  {
   "cell_type": "code",
   "execution_count": 63,
   "metadata": {},
   "outputs": [
    {
     "data": {
      "text/plain": [
       "tensor([6, 5, 6, 6])"
      ]
     },
     "execution_count": 63,
     "metadata": {},
     "output_type": "execute_result"
    }
   ],
   "source": [
    "1 + tokenized.attention_mask.sum(1)"
   ]
  },
  {
   "cell_type": "code",
   "execution_count": 65,
   "metadata": {},
   "outputs": [
    {
     "data": {
      "text/plain": [
       "torch.Size([4, 6, 50257])"
      ]
     },
     "execution_count": 65,
     "metadata": {},
     "output_type": "execute_result"
    }
   ],
   "source": [
    "model(clean).shape"
   ]
  },
  {
   "cell_type": "code",
   "execution_count": 82,
   "metadata": {},
   "outputs": [
    {
     "name": "stdout",
     "output_type": "stream",
     "text": [
      "Loaded pretrained model meta-llama/Llama-3.2-1B-Instruct into HookedTransformer\n"
     ]
    }
   ],
   "source": [
    "model = HookedTransformer.from_pretrained(\n",
    "    \"meta-llama/Llama-3.2-1B-Instruct\",\n",
    "    center_writing_weights=False,\n",
    "    center_unembed=False,\n",
    "    fold_ln=False,\n",
    "    device=\"mps\",\n",
    ")\n",
    "model.cfg.use_split_qkv_input = True\n",
    "model.cfg.use_attn_result = True\n",
    "model.cfg.use_hook_mlp_in = True\n",
    "model.cfg.ungroup_grouped_query_attention = True  # use ungrouped query attention"
   ]
  },
  {
   "cell_type": "code",
   "execution_count": 83,
   "metadata": {},
   "outputs": [],
   "source": [
    "tokenizer = model.tokenizer"
   ]
  },
  {
   "cell_type": "code",
   "execution_count": 84,
   "metadata": {},
   "outputs": [],
   "source": [
    "he_idx = tokenizer(\"he\", add_special_tokens=False).input_ids[0]\n",
    "she_idx = tokenizer(\"she\", add_special_tokens=False).input_ids[0]"
   ]
  },
  {
   "cell_type": "code",
   "execution_count": 85,
   "metadata": {},
   "outputs": [
    {
     "data": {
      "text/plain": [
       "{'input_ids': tensor([[   791,  93637,    574,  14219,   1606, 128009],\n",
       "        [   791,  29349,   4934,    430, 128009, 128009],\n",
       "        [   791,   9141,    261,  20186,    709,   1606],\n",
       "        [   791,  76021,   4024,   2162,   1606, 128009]]), 'attention_mask': tensor([[1, 1, 1, 1, 1, 0],\n",
       "        [1, 1, 1, 1, 0, 0],\n",
       "        [1, 1, 1, 1, 1, 1],\n",
       "        [1, 1, 1, 1, 1, 0]])}"
      ]
     },
     "execution_count": 85,
     "metadata": {},
     "output_type": "execute_result"
    }
   ],
   "source": [
    "tokenized = tokenizer(clean, padding=\"longest\", return_tensors=\"pt\", add_special_tokens=False)\n",
    "tokenized"
   ]
  },
  {
   "cell_type": "code",
   "execution_count": 86,
   "metadata": {},
   "outputs": [
    {
     "data": {
      "text/plain": [
       "7"
      ]
     },
     "execution_count": 86,
     "metadata": {},
     "output_type": "execute_result"
    }
   ],
   "source": [
    "1 + tokenized.attention_mask.size(1)"
   ]
  },
  {
   "cell_type": "code",
   "execution_count": 87,
   "metadata": {},
   "outputs": [
    {
     "data": {
      "text/plain": [
       "tensor([6, 5, 7, 6])"
      ]
     },
     "execution_count": 87,
     "metadata": {},
     "output_type": "execute_result"
    }
   ],
   "source": [
    "1 + tokenized.attention_mask.sum(1)"
   ]
  },
  {
   "cell_type": "code",
   "execution_count": 88,
   "metadata": {},
   "outputs": [
    {
     "data": {
      "text/plain": [
       "{'input_ids': tensor([[128000,    791,  93637,    574,  14219,   1606, 128009],\n",
       "        [128000,    791,  29349,   4934,    430, 128009, 128009],\n",
       "        [128000,    791,   9141,    261,  20186,    709,   1606],\n",
       "        [128000,    791,  76021,   4024,   2162,   1606, 128009]]), 'attention_mask': tensor([[1, 1, 1, 1, 1, 1, 0],\n",
       "        [1, 1, 1, 1, 1, 0, 0],\n",
       "        [1, 1, 1, 1, 1, 1, 1],\n",
       "        [1, 1, 1, 1, 1, 1, 0]])}"
      ]
     },
     "execution_count": 88,
     "metadata": {},
     "output_type": "execute_result"
    }
   ],
   "source": [
    "tokenized = tokenizer(clean, padding=\"longest\", return_tensors=\"pt\", add_special_tokens=True)\n",
    "tokenized"
   ]
  },
  {
   "cell_type": "code",
   "execution_count": 90,
   "metadata": {},
   "outputs": [
    {
     "data": {
      "text/plain": [
       "torch.Size([4, 7])"
      ]
     },
     "execution_count": 90,
     "metadata": {},
     "output_type": "execute_result"
    }
   ],
   "source": [
    "tokenized.attention_mask.size()"
   ]
  },
  {
   "cell_type": "code",
   "execution_count": 91,
   "metadata": {},
   "outputs": [
    {
     "data": {
      "text/plain": [
       "8"
      ]
     },
     "execution_count": 91,
     "metadata": {},
     "output_type": "execute_result"
    }
   ],
   "source": [
    "1 + tokenized.attention_mask.size(1)"
   ]
  },
  {
   "cell_type": "code",
   "execution_count": 92,
   "metadata": {},
   "outputs": [
    {
     "data": {
      "text/plain": [
       "tensor([7, 6, 8, 7])"
      ]
     },
     "execution_count": 92,
     "metadata": {},
     "output_type": "execute_result"
    }
   ],
   "source": [
    "1 + tokenized.attention_mask.sum(1)"
   ]
  },
  {
   "cell_type": "code",
   "execution_count": 93,
   "metadata": {},
   "outputs": [
    {
     "data": {
      "text/plain": [
       "torch.Size([4, 7, 128256])"
      ]
     },
     "execution_count": 93,
     "metadata": {},
     "output_type": "execute_result"
    }
   ],
   "source": [
    "model(clean).shape"
   ]
  },
  {
   "cell_type": "code",
   "execution_count": 94,
   "metadata": {},
   "outputs": [
    {
     "data": {
      "text/plain": [
       "torch.Size([4, 7, 128256])"
      ]
     },
     "execution_count": 94,
     "metadata": {},
     "output_type": "execute_result"
    }
   ],
   "source": [
    "model(clean, prepend_bos=True).shape"
   ]
  },
  {
   "cell_type": "code",
   "execution_count": 95,
   "metadata": {},
   "outputs": [
    {
     "data": {
      "text/plain": [
       "torch.Size([4, 6, 128256])"
      ]
     },
     "execution_count": 95,
     "metadata": {},
     "output_type": "execute_result"
    }
   ],
   "source": [
    "model(clean, prepend_bos=False).shape"
   ]
  },
  {
   "cell_type": "code",
   "execution_count": 96,
   "metadata": {},
   "outputs": [
    {
     "data": {
      "text/plain": [
       "tensor([[128000,    791,  93637,    574,  14219,   1606, 128009],\n",
       "        [128000,    791,  29349,   4934,    430, 128009, 128009],\n",
       "        [128000,    791,   9141,    261,  20186,    709,   1606],\n",
       "        [128000,    791,  76021,   4024,   2162,   1606, 128009]],\n",
       "       device='mps:0')"
      ]
     },
     "execution_count": 96,
     "metadata": {},
     "output_type": "execute_result"
    }
   ],
   "source": [
    "model.to_tokens(clean)"
   ]
  },
  {
   "cell_type": "code",
   "execution_count": 102,
   "metadata": {},
   "outputs": [
    {
     "data": {
      "text/plain": [
       "[128000, 791, 93637, 574, 14219, 1606]"
      ]
     },
     "execution_count": 102,
     "metadata": {},
     "output_type": "execute_result"
    }
   ],
   "source": [
    "tokenizer(\"The sailor was fired because\", padding=\"longest\", add_special_tokens=True).input_ids"
   ]
  },
  {
   "cell_type": "code",
   "execution_count": 103,
   "metadata": {},
   "outputs": [
    {
     "data": {
      "text/html": [
       "<div>\n",
       "<style scoped>\n",
       "    .dataframe tbody tr th:only-of-type {\n",
       "        vertical-align: middle;\n",
       "    }\n",
       "\n",
       "    .dataframe tbody tr th {\n",
       "        vertical-align: top;\n",
       "    }\n",
       "\n",
       "    .dataframe thead th {\n",
       "        text-align: right;\n",
       "    }\n",
       "</style>\n",
       "<table border=\"1\" class=\"dataframe\">\n",
       "  <thead>\n",
       "    <tr style=\"text-align: right;\">\n",
       "      <th></th>\n",
       "      <th>clean</th>\n",
       "      <th>corrupted</th>\n",
       "      <th>clean_answer_idx</th>\n",
       "      <th>corrupted_answer_idx</th>\n",
       "      <th>label</th>\n",
       "      <th>clean_tokens</th>\n",
       "      <th>corrupted_tokens</th>\n",
       "    </tr>\n",
       "  </thead>\n",
       "  <tbody>\n",
       "    <tr>\n",
       "      <th>0</th>\n",
       "      <td>The poet was promoted because</td>\n",
       "      <td>The man was promoted because</td>\n",
       "      <td>673</td>\n",
       "      <td>339</td>\n",
       "      <td>0</td>\n",
       "      <td>[128000, 791, 40360, 574, 30026, 1606]</td>\n",
       "      <td>[128000, 791, 893, 574, 30026, 1606]</td>\n",
       "    </tr>\n",
       "    <tr>\n",
       "      <th>1</th>\n",
       "      <td>The secretary slept because</td>\n",
       "      <td>The man slept because</td>\n",
       "      <td>673</td>\n",
       "      <td>339</td>\n",
       "      <td>0</td>\n",
       "      <td>[128000, 791, 19607, 46498, 1606]</td>\n",
       "      <td>[128000, 791, 893, 46498, 1606]</td>\n",
       "    </tr>\n",
       "    <tr>\n",
       "      <th>2</th>\n",
       "      <td>The banker wished that</td>\n",
       "      <td>The woman wished that</td>\n",
       "      <td>339</td>\n",
       "      <td>673</td>\n",
       "      <td>1</td>\n",
       "      <td>[128000, 791, 72759, 37287, 430]</td>\n",
       "      <td>[128000, 791, 5333, 37287, 430]</td>\n",
       "    </tr>\n",
       "    <tr>\n",
       "      <th>3</th>\n",
       "      <td>The comic drove because</td>\n",
       "      <td>The woman drove because</td>\n",
       "      <td>339</td>\n",
       "      <td>673</td>\n",
       "      <td>1</td>\n",
       "      <td>[128000, 791, 20303, 23980, 1606]</td>\n",
       "      <td>[128000, 791, 5333, 23980, 1606]</td>\n",
       "    </tr>\n",
       "    <tr>\n",
       "      <th>4</th>\n",
       "      <td>The conductor ran because</td>\n",
       "      <td>The woman ran because</td>\n",
       "      <td>339</td>\n",
       "      <td>673</td>\n",
       "      <td>1</td>\n",
       "      <td>[128000, 791, 61856, 10837, 1606]</td>\n",
       "      <td>[128000, 791, 5333, 10837, 1606]</td>\n",
       "    </tr>\n",
       "  </tbody>\n",
       "</table>\n",
       "</div>"
      ],
      "text/plain": [
       "                           clean                     corrupted  \\\n",
       "0  The poet was promoted because  The man was promoted because   \n",
       "1    The secretary slept because         The man slept because   \n",
       "2         The banker wished that         The woman wished that   \n",
       "3        The comic drove because       The woman drove because   \n",
       "4      The conductor ran because         The woman ran because   \n",
       "\n",
       "   clean_answer_idx  corrupted_answer_idx  label  \\\n",
       "0               673                   339      0   \n",
       "1               673                   339      0   \n",
       "2               339                   673      1   \n",
       "3               339                   673      1   \n",
       "4               339                   673      1   \n",
       "\n",
       "                             clean_tokens  \\\n",
       "0  [128000, 791, 40360, 574, 30026, 1606]   \n",
       "1       [128000, 791, 19607, 46498, 1606]   \n",
       "2        [128000, 791, 72759, 37287, 430]   \n",
       "3       [128000, 791, 20303, 23980, 1606]   \n",
       "4       [128000, 791, 61856, 10837, 1606]   \n",
       "\n",
       "                       corrupted_tokens  \n",
       "0  [128000, 791, 893, 574, 30026, 1606]  \n",
       "1       [128000, 791, 893, 46498, 1606]  \n",
       "2       [128000, 791, 5333, 37287, 430]  \n",
       "3      [128000, 791, 5333, 23980, 1606]  \n",
       "4      [128000, 791, 5333, 10837, 1606]  "
      ]
     },
     "execution_count": 103,
     "metadata": {},
     "output_type": "execute_result"
    }
   ],
   "source": [
    "df[\"clean_tokens\"] = df[\"clean\"].apply(lambda x: tokenizer(x, padding=\"longest\", add_special_tokens=True).input_ids)\n",
    "df[\"corrupted_tokens\"] = df[\"corrupted\"].apply(lambda x: tokenizer(x, padding=\"longest\", add_special_tokens=True).input_ids)\n",
    "df.head()"
   ]
  },
  {
   "cell_type": "code",
   "execution_count": 105,
   "metadata": {},
   "outputs": [
    {
     "data": {
      "text/html": [
       "<div>\n",
       "<style scoped>\n",
       "    .dataframe tbody tr th:only-of-type {\n",
       "        vertical-align: middle;\n",
       "    }\n",
       "\n",
       "    .dataframe tbody tr th {\n",
       "        vertical-align: top;\n",
       "    }\n",
       "\n",
       "    .dataframe thead th {\n",
       "        text-align: right;\n",
       "    }\n",
       "</style>\n",
       "<table border=\"1\" class=\"dataframe\">\n",
       "  <thead>\n",
       "    <tr style=\"text-align: right;\">\n",
       "      <th></th>\n",
       "      <th>clean</th>\n",
       "      <th>corrupted</th>\n",
       "      <th>clean_answer_idx</th>\n",
       "      <th>corrupted_answer_idx</th>\n",
       "      <th>label</th>\n",
       "      <th>clean_tokens</th>\n",
       "      <th>corrupted_tokens</th>\n",
       "      <th>new_clean_anser_idx</th>\n",
       "      <th>new_corrupted_anser_idx</th>\n",
       "    </tr>\n",
       "  </thead>\n",
       "  <tbody>\n",
       "    <tr>\n",
       "      <th>0</th>\n",
       "      <td>The poet was promoted because</td>\n",
       "      <td>The man was promoted because</td>\n",
       "      <td>673</td>\n",
       "      <td>339</td>\n",
       "      <td>0</td>\n",
       "      <td>[128000, 791, 40360, 574, 30026, 1606]</td>\n",
       "      <td>[128000, 791, 893, 574, 30026, 1606]</td>\n",
       "      <td>32158</td>\n",
       "      <td>383</td>\n",
       "    </tr>\n",
       "    <tr>\n",
       "      <th>1</th>\n",
       "      <td>The secretary slept because</td>\n",
       "      <td>The man slept because</td>\n",
       "      <td>673</td>\n",
       "      <td>339</td>\n",
       "      <td>0</td>\n",
       "      <td>[128000, 791, 19607, 46498, 1606]</td>\n",
       "      <td>[128000, 791, 893, 46498, 1606]</td>\n",
       "      <td>32158</td>\n",
       "      <td>383</td>\n",
       "    </tr>\n",
       "    <tr>\n",
       "      <th>2</th>\n",
       "      <td>The banker wished that</td>\n",
       "      <td>The woman wished that</td>\n",
       "      <td>339</td>\n",
       "      <td>673</td>\n",
       "      <td>1</td>\n",
       "      <td>[128000, 791, 72759, 37287, 430]</td>\n",
       "      <td>[128000, 791, 5333, 37287, 430]</td>\n",
       "      <td>383</td>\n",
       "      <td>32158</td>\n",
       "    </tr>\n",
       "    <tr>\n",
       "      <th>3</th>\n",
       "      <td>The comic drove because</td>\n",
       "      <td>The woman drove because</td>\n",
       "      <td>339</td>\n",
       "      <td>673</td>\n",
       "      <td>1</td>\n",
       "      <td>[128000, 791, 20303, 23980, 1606]</td>\n",
       "      <td>[128000, 791, 5333, 23980, 1606]</td>\n",
       "      <td>383</td>\n",
       "      <td>32158</td>\n",
       "    </tr>\n",
       "    <tr>\n",
       "      <th>4</th>\n",
       "      <td>The conductor ran because</td>\n",
       "      <td>The woman ran because</td>\n",
       "      <td>339</td>\n",
       "      <td>673</td>\n",
       "      <td>1</td>\n",
       "      <td>[128000, 791, 61856, 10837, 1606]</td>\n",
       "      <td>[128000, 791, 5333, 10837, 1606]</td>\n",
       "      <td>383</td>\n",
       "      <td>32158</td>\n",
       "    </tr>\n",
       "  </tbody>\n",
       "</table>\n",
       "</div>"
      ],
      "text/plain": [
       "                           clean                     corrupted  \\\n",
       "0  The poet was promoted because  The man was promoted because   \n",
       "1    The secretary slept because         The man slept because   \n",
       "2         The banker wished that         The woman wished that   \n",
       "3        The comic drove because       The woman drove because   \n",
       "4      The conductor ran because         The woman ran because   \n",
       "\n",
       "   clean_answer_idx  corrupted_answer_idx  label  \\\n",
       "0               673                   339      0   \n",
       "1               673                   339      0   \n",
       "2               339                   673      1   \n",
       "3               339                   673      1   \n",
       "4               339                   673      1   \n",
       "\n",
       "                             clean_tokens  \\\n",
       "0  [128000, 791, 40360, 574, 30026, 1606]   \n",
       "1       [128000, 791, 19607, 46498, 1606]   \n",
       "2        [128000, 791, 72759, 37287, 430]   \n",
       "3       [128000, 791, 20303, 23980, 1606]   \n",
       "4       [128000, 791, 61856, 10837, 1606]   \n",
       "\n",
       "                       corrupted_tokens  new_clean_anser_idx  \\\n",
       "0  [128000, 791, 893, 574, 30026, 1606]                32158   \n",
       "1       [128000, 791, 893, 46498, 1606]                32158   \n",
       "2       [128000, 791, 5333, 37287, 430]                  383   \n",
       "3      [128000, 791, 5333, 23980, 1606]                  383   \n",
       "4      [128000, 791, 5333, 10837, 1606]                  383   \n",
       "\n",
       "   new_corrupted_anser_idx  \n",
       "0                      383  \n",
       "1                      383  \n",
       "2                    32158  \n",
       "3                    32158  \n",
       "4                    32158  "
      ]
     },
     "execution_count": 105,
     "metadata": {},
     "output_type": "execute_result"
    }
   ],
   "source": [
    "df[\"new_clean_anser_idx\"] = df[\"clean_answer_idx\"].apply(lambda x: he_idx if x == 339 else she_idx)\n",
    "df[\"new_corrupted_anser_idx\"] = df[\"corrupted_answer_idx\"].apply(lambda x: he_idx if x == 339 else she_idx)\n",
    "df.head()"
   ]
  },
  {
   "cell_type": "code",
   "execution_count": 107,
   "metadata": {},
   "outputs": [
    {
     "data": {
      "text/html": [
       "<div>\n",
       "<style scoped>\n",
       "    .dataframe tbody tr th:only-of-type {\n",
       "        vertical-align: middle;\n",
       "    }\n",
       "\n",
       "    .dataframe tbody tr th {\n",
       "        vertical-align: top;\n",
       "    }\n",
       "\n",
       "    .dataframe thead th {\n",
       "        text-align: right;\n",
       "    }\n",
       "</style>\n",
       "<table border=\"1\" class=\"dataframe\">\n",
       "  <thead>\n",
       "    <tr style=\"text-align: right;\">\n",
       "      <th></th>\n",
       "      <th>clean</th>\n",
       "      <th>corrupted</th>\n",
       "      <th>clean_answer_idx</th>\n",
       "      <th>corrupted_answer_idx</th>\n",
       "      <th>label</th>\n",
       "      <th>clean_tokens</th>\n",
       "      <th>corrupted_tokens</th>\n",
       "      <th>new_clean_anser_idx</th>\n",
       "      <th>new_corrupted_anser_idx</th>\n",
       "      <th>clean_tokens_len</th>\n",
       "      <th>corrupted_tokens_len</th>\n",
       "    </tr>\n",
       "  </thead>\n",
       "  <tbody>\n",
       "    <tr>\n",
       "      <th>0</th>\n",
       "      <td>The poet was promoted because</td>\n",
       "      <td>The man was promoted because</td>\n",
       "      <td>673</td>\n",
       "      <td>339</td>\n",
       "      <td>0</td>\n",
       "      <td>[128000, 791, 40360, 574, 30026, 1606]</td>\n",
       "      <td>[128000, 791, 893, 574, 30026, 1606]</td>\n",
       "      <td>32158</td>\n",
       "      <td>383</td>\n",
       "      <td>6</td>\n",
       "      <td>6</td>\n",
       "    </tr>\n",
       "    <tr>\n",
       "      <th>1</th>\n",
       "      <td>The secretary slept because</td>\n",
       "      <td>The man slept because</td>\n",
       "      <td>673</td>\n",
       "      <td>339</td>\n",
       "      <td>0</td>\n",
       "      <td>[128000, 791, 19607, 46498, 1606]</td>\n",
       "      <td>[128000, 791, 893, 46498, 1606]</td>\n",
       "      <td>32158</td>\n",
       "      <td>383</td>\n",
       "      <td>5</td>\n",
       "      <td>5</td>\n",
       "    </tr>\n",
       "    <tr>\n",
       "      <th>2</th>\n",
       "      <td>The banker wished that</td>\n",
       "      <td>The woman wished that</td>\n",
       "      <td>339</td>\n",
       "      <td>673</td>\n",
       "      <td>1</td>\n",
       "      <td>[128000, 791, 72759, 37287, 430]</td>\n",
       "      <td>[128000, 791, 5333, 37287, 430]</td>\n",
       "      <td>383</td>\n",
       "      <td>32158</td>\n",
       "      <td>5</td>\n",
       "      <td>5</td>\n",
       "    </tr>\n",
       "    <tr>\n",
       "      <th>3</th>\n",
       "      <td>The comic drove because</td>\n",
       "      <td>The woman drove because</td>\n",
       "      <td>339</td>\n",
       "      <td>673</td>\n",
       "      <td>1</td>\n",
       "      <td>[128000, 791, 20303, 23980, 1606]</td>\n",
       "      <td>[128000, 791, 5333, 23980, 1606]</td>\n",
       "      <td>383</td>\n",
       "      <td>32158</td>\n",
       "      <td>5</td>\n",
       "      <td>5</td>\n",
       "    </tr>\n",
       "    <tr>\n",
       "      <th>4</th>\n",
       "      <td>The conductor ran because</td>\n",
       "      <td>The woman ran because</td>\n",
       "      <td>339</td>\n",
       "      <td>673</td>\n",
       "      <td>1</td>\n",
       "      <td>[128000, 791, 61856, 10837, 1606]</td>\n",
       "      <td>[128000, 791, 5333, 10837, 1606]</td>\n",
       "      <td>383</td>\n",
       "      <td>32158</td>\n",
       "      <td>5</td>\n",
       "      <td>5</td>\n",
       "    </tr>\n",
       "  </tbody>\n",
       "</table>\n",
       "</div>"
      ],
      "text/plain": [
       "                           clean                     corrupted  \\\n",
       "0  The poet was promoted because  The man was promoted because   \n",
       "1    The secretary slept because         The man slept because   \n",
       "2         The banker wished that         The woman wished that   \n",
       "3        The comic drove because       The woman drove because   \n",
       "4      The conductor ran because         The woman ran because   \n",
       "\n",
       "   clean_answer_idx  corrupted_answer_idx  label  \\\n",
       "0               673                   339      0   \n",
       "1               673                   339      0   \n",
       "2               339                   673      1   \n",
       "3               339                   673      1   \n",
       "4               339                   673      1   \n",
       "\n",
       "                             clean_tokens  \\\n",
       "0  [128000, 791, 40360, 574, 30026, 1606]   \n",
       "1       [128000, 791, 19607, 46498, 1606]   \n",
       "2        [128000, 791, 72759, 37287, 430]   \n",
       "3       [128000, 791, 20303, 23980, 1606]   \n",
       "4       [128000, 791, 61856, 10837, 1606]   \n",
       "\n",
       "                       corrupted_tokens  new_clean_anser_idx  \\\n",
       "0  [128000, 791, 893, 574, 30026, 1606]                32158   \n",
       "1       [128000, 791, 893, 46498, 1606]                32158   \n",
       "2       [128000, 791, 5333, 37287, 430]                  383   \n",
       "3      [128000, 791, 5333, 23980, 1606]                  383   \n",
       "4      [128000, 791, 5333, 10837, 1606]                  383   \n",
       "\n",
       "   new_corrupted_anser_idx  clean_tokens_len  corrupted_tokens_len  \n",
       "0                      383                 6                     6  \n",
       "1                      383                 5                     5  \n",
       "2                    32158                 5                     5  \n",
       "3                    32158                 5                     5  \n",
       "4                    32158                 5                     5  "
      ]
     },
     "execution_count": 107,
     "metadata": {},
     "output_type": "execute_result"
    }
   ],
   "source": [
    "df[\"clean_tokens_len\"] = df[\"clean_tokens\"].apply(len)\n",
    "df[\"corrupted_tokens_len\"] = df[\"corrupted_tokens\"].apply(len)\n",
    "df.head()"
   ]
  },
  {
   "cell_type": "code",
   "execution_count": 115,
   "metadata": {},
   "outputs": [
    {
     "data": {
      "text/html": [
       "<div>\n",
       "<style scoped>\n",
       "    .dataframe tbody tr th:only-of-type {\n",
       "        vertical-align: middle;\n",
       "    }\n",
       "\n",
       "    .dataframe tbody tr th {\n",
       "        vertical-align: top;\n",
       "    }\n",
       "\n",
       "    .dataframe thead th {\n",
       "        text-align: right;\n",
       "    }\n",
       "</style>\n",
       "<table border=\"1\" class=\"dataframe\">\n",
       "  <thead>\n",
       "    <tr style=\"text-align: right;\">\n",
       "      <th></th>\n",
       "      <th>clean</th>\n",
       "      <th>corrupted</th>\n",
       "      <th>clean_answer_idx</th>\n",
       "      <th>corrupted_answer_idx</th>\n",
       "      <th>label</th>\n",
       "      <th>clean_tokens</th>\n",
       "      <th>corrupted_tokens</th>\n",
       "      <th>new_clean_anser_idx</th>\n",
       "      <th>new_corrupted_anser_idx</th>\n",
       "      <th>clean_tokens_len</th>\n",
       "      <th>corrupted_tokens_len</th>\n",
       "    </tr>\n",
       "  </thead>\n",
       "  <tbody>\n",
       "    <tr>\n",
       "      <th>0</th>\n",
       "      <td>The poet was promoted because</td>\n",
       "      <td>The man was promoted because</td>\n",
       "      <td>673</td>\n",
       "      <td>339</td>\n",
       "      <td>0</td>\n",
       "      <td>[128000, 791, 40360, 574, 30026, 1606]</td>\n",
       "      <td>[128000, 791, 893, 574, 30026, 1606]</td>\n",
       "      <td>32158</td>\n",
       "      <td>383</td>\n",
       "      <td>6</td>\n",
       "      <td>6</td>\n",
       "    </tr>\n",
       "    <tr>\n",
       "      <th>1</th>\n",
       "      <td>The secretary slept because</td>\n",
       "      <td>The man slept because</td>\n",
       "      <td>673</td>\n",
       "      <td>339</td>\n",
       "      <td>0</td>\n",
       "      <td>[128000, 791, 19607, 46498, 1606]</td>\n",
       "      <td>[128000, 791, 893, 46498, 1606]</td>\n",
       "      <td>32158</td>\n",
       "      <td>383</td>\n",
       "      <td>5</td>\n",
       "      <td>5</td>\n",
       "    </tr>\n",
       "    <tr>\n",
       "      <th>2</th>\n",
       "      <td>The banker wished that</td>\n",
       "      <td>The woman wished that</td>\n",
       "      <td>339</td>\n",
       "      <td>673</td>\n",
       "      <td>1</td>\n",
       "      <td>[128000, 791, 72759, 37287, 430]</td>\n",
       "      <td>[128000, 791, 5333, 37287, 430]</td>\n",
       "      <td>383</td>\n",
       "      <td>32158</td>\n",
       "      <td>5</td>\n",
       "      <td>5</td>\n",
       "    </tr>\n",
       "    <tr>\n",
       "      <th>3</th>\n",
       "      <td>The comic drove because</td>\n",
       "      <td>The woman drove because</td>\n",
       "      <td>339</td>\n",
       "      <td>673</td>\n",
       "      <td>1</td>\n",
       "      <td>[128000, 791, 20303, 23980, 1606]</td>\n",
       "      <td>[128000, 791, 5333, 23980, 1606]</td>\n",
       "      <td>383</td>\n",
       "      <td>32158</td>\n",
       "      <td>5</td>\n",
       "      <td>5</td>\n",
       "    </tr>\n",
       "    <tr>\n",
       "      <th>4</th>\n",
       "      <td>The conductor ran because</td>\n",
       "      <td>The woman ran because</td>\n",
       "      <td>339</td>\n",
       "      <td>673</td>\n",
       "      <td>1</td>\n",
       "      <td>[128000, 791, 61856, 10837, 1606]</td>\n",
       "      <td>[128000, 791, 5333, 10837, 1606]</td>\n",
       "      <td>383</td>\n",
       "      <td>32158</td>\n",
       "      <td>5</td>\n",
       "      <td>5</td>\n",
       "    </tr>\n",
       "  </tbody>\n",
       "</table>\n",
       "</div>"
      ],
      "text/plain": [
       "                           clean                     corrupted  \\\n",
       "0  The poet was promoted because  The man was promoted because   \n",
       "1    The secretary slept because         The man slept because   \n",
       "2         The banker wished that         The woman wished that   \n",
       "3        The comic drove because       The woman drove because   \n",
       "4      The conductor ran because         The woman ran because   \n",
       "\n",
       "   clean_answer_idx  corrupted_answer_idx  label  \\\n",
       "0               673                   339      0   \n",
       "1               673                   339      0   \n",
       "2               339                   673      1   \n",
       "3               339                   673      1   \n",
       "4               339                   673      1   \n",
       "\n",
       "                             clean_tokens  \\\n",
       "0  [128000, 791, 40360, 574, 30026, 1606]   \n",
       "1       [128000, 791, 19607, 46498, 1606]   \n",
       "2        [128000, 791, 72759, 37287, 430]   \n",
       "3       [128000, 791, 20303, 23980, 1606]   \n",
       "4       [128000, 791, 61856, 10837, 1606]   \n",
       "\n",
       "                       corrupted_tokens  new_clean_anser_idx  \\\n",
       "0  [128000, 791, 893, 574, 30026, 1606]                32158   \n",
       "1       [128000, 791, 893, 46498, 1606]                32158   \n",
       "2       [128000, 791, 5333, 37287, 430]                  383   \n",
       "3      [128000, 791, 5333, 23980, 1606]                  383   \n",
       "4      [128000, 791, 5333, 10837, 1606]                  383   \n",
       "\n",
       "   new_corrupted_anser_idx  clean_tokens_len  corrupted_tokens_len  \n",
       "0                      383                 6                     6  \n",
       "1                      383                 5                     5  \n",
       "2                    32158                 5                     5  \n",
       "3                    32158                 5                     5  \n",
       "4                    32158                 5                     5  "
      ]
     },
     "execution_count": 115,
     "metadata": {},
     "output_type": "execute_result"
    }
   ],
   "source": [
    "modified_df = df.loc[df[\"clean_tokens_len\"] == df[\"corrupted_tokens_len\"], :]\n",
    "modified_df.head()"
   ]
  },
  {
   "cell_type": "code",
   "execution_count": 116,
   "metadata": {},
   "outputs": [],
   "source": [
    "modified_df = modified_df[[\"clean\", \"corrupted\", \"new_clean_anser_idx\", \"new_corrupted_anser_idx\", \"label\"]]\n",
    "modified_df.columns = [\"clean\", \"corrupted\", \"clean_answer_idx\", \"corrupted_answer_idx\", \"label\"]\n",
    "modified_df.to_csv(\"llama.csv\", index=False)"
   ]
  }
 ],
 "metadata": {
  "kernelspec": {
   "display_name": "eapig",
   "language": "python",
   "name": "python3"
  },
  "language_info": {
   "codemirror_mode": {
    "name": "ipython",
    "version": 3
   },
   "file_extension": ".py",
   "mimetype": "text/x-python",
   "name": "python",
   "nbconvert_exporter": "python",
   "pygments_lexer": "ipython3",
   "version": "3.10.12"
  }
 },
 "nbformat": 4,
 "nbformat_minor": 2
}
