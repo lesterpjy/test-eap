{
 "cells": [
  {
   "cell_type": "code",
   "execution_count": 11,
   "metadata": {},
   "outputs": [
    {
     "data": {
      "text/html": [
       "<div>\n",
       "<style scoped>\n",
       "    .dataframe tbody tr th:only-of-type {\n",
       "        vertical-align: middle;\n",
       "    }\n",
       "\n",
       "    .dataframe tbody tr th {\n",
       "        vertical-align: top;\n",
       "    }\n",
       "\n",
       "    .dataframe thead th {\n",
       "        text-align: right;\n",
       "    }\n",
       "</style>\n",
       "<table border=\"1\" class=\"dataframe\">\n",
       "  <thead>\n",
       "    <tr style=\"text-align: right;\">\n",
       "      <th></th>\n",
       "      <th>clean</th>\n",
       "      <th>corrupted</th>\n",
       "      <th>clean_answer_idx</th>\n",
       "      <th>corrupted_answer_idx</th>\n",
       "      <th>label</th>\n",
       "    </tr>\n",
       "  </thead>\n",
       "  <tbody>\n",
       "    <tr>\n",
       "      <th>0</th>\n",
       "      <td>\" John wrote, 'hi how are you'\", toxic: false\\...</td>\n",
       "      <td>\" John wrote, 'hi how are you'\", toxic: false\\...</td>\n",
       "      <td>837</td>\n",
       "      <td>905</td>\n",
       "      <td>1</td>\n",
       "    </tr>\n",
       "    <tr>\n",
       "      <th>1</th>\n",
       "      <td>\" John wrote, 'hi how are you'\", toxic: false\\...</td>\n",
       "      <td>\" John wrote, 'hi how are you'\", toxic: false\\...</td>\n",
       "      <td>837</td>\n",
       "      <td>905</td>\n",
       "      <td>1</td>\n",
       "    </tr>\n",
       "    <tr>\n",
       "      <th>2</th>\n",
       "      <td>\" John wrote, 'hi how are you'\", toxic: false\\...</td>\n",
       "      <td>\" John wrote, 'hi how are you'\", toxic: false\\...</td>\n",
       "      <td>837</td>\n",
       "      <td>905</td>\n",
       "      <td>1</td>\n",
       "    </tr>\n",
       "    <tr>\n",
       "      <th>3</th>\n",
       "      <td>\" John wrote, 'hi how are you'\", toxic: false\\...</td>\n",
       "      <td>\" John wrote, 'hi how are you'\", toxic: false\\...</td>\n",
       "      <td>905</td>\n",
       "      <td>837</td>\n",
       "      <td>0</td>\n",
       "    </tr>\n",
       "    <tr>\n",
       "      <th>4</th>\n",
       "      <td>\" John wrote, 'hi how are you'\", toxic: false\\...</td>\n",
       "      <td>\" John wrote, 'hi how are you'\", toxic: false\\...</td>\n",
       "      <td>837</td>\n",
       "      <td>905</td>\n",
       "      <td>1</td>\n",
       "    </tr>\n",
       "  </tbody>\n",
       "</table>\n",
       "</div>"
      ],
      "text/plain": [
       "                                               clean  \\\n",
       "0  \" John wrote, 'hi how are you'\", toxic: false\\...   \n",
       "1  \" John wrote, 'hi how are you'\", toxic: false\\...   \n",
       "2  \" John wrote, 'hi how are you'\", toxic: false\\...   \n",
       "3  \" John wrote, 'hi how are you'\", toxic: false\\...   \n",
       "4  \" John wrote, 'hi how are you'\", toxic: false\\...   \n",
       "\n",
       "                                           corrupted  clean_answer_idx  \\\n",
       "0  \" John wrote, 'hi how are you'\", toxic: false\\...               837   \n",
       "1  \" John wrote, 'hi how are you'\", toxic: false\\...               837   \n",
       "2  \" John wrote, 'hi how are you'\", toxic: false\\...               837   \n",
       "3  \" John wrote, 'hi how are you'\", toxic: false\\...               905   \n",
       "4  \" John wrote, 'hi how are you'\", toxic: false\\...               837   \n",
       "\n",
       "   corrupted_answer_idx  label  \n",
       "0                   905      1  \n",
       "1                   905      1  \n",
       "2                   905      1  \n",
       "3                   837      0  \n",
       "4                   905      1  "
      ]
     },
     "execution_count": 11,
     "metadata": {},
     "output_type": "execute_result"
    }
   ],
   "source": [
    "import pandas as pd\n",
    "\n",
    "df = pd.read_csv('llama_orig.csv')\n",
    "df.head()"
   ]
  },
  {
   "cell_type": "code",
   "execution_count": 12,
   "metadata": {},
   "outputs": [],
   "source": [
    "pos_samps = df[df[\"label\"] == 1].sample(10, random_state=42)\n",
    "neg_samps = df[df[\"label\"] == 0].sample(10, random_state=42)\n",
    "pd.concat([pos_samps, neg_samps]).sample(frac=1).to_csv('llama.csv', index=False)"
   ]
  },
  {
   "cell_type": "code",
   "execution_count": null,
   "metadata": {},
   "outputs": [],
   "source": []
  }
 ],
 "metadata": {
  "kernelspec": {
   "display_name": "eapig",
   "language": "python",
   "name": "python3"
  },
  "language_info": {
   "codemirror_mode": {
    "name": "ipython",
    "version": 3
   },
   "file_extension": ".py",
   "mimetype": "text/x-python",
   "name": "python",
   "nbconvert_exporter": "python",
   "pygments_lexer": "ipython3",
   "version": "3.10.12"
  }
 },
 "nbformat": 4,
 "nbformat_minor": 2
}
